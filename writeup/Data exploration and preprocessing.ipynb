{
 "metadata": {
  "name": "",
  "signature": "sha256:4f1621329b1b60b29a7310d14e0d7ee38b37e18eb7c61065603e71176d21fe9a"
 },
 "nbformat": 3,
 "nbformat_minor": 0,
 "worksheets": [
  {
   "cells": [
    {
     "cell_type": "code",
     "collapsed": false,
     "input": [
      "%autosave 60\n",
      "%matplotlib inline\n",
      "\n",
      "#enable or disable pdb for debugging\n",
      "#%pdb"
     ],
     "language": "python",
     "metadata": {},
     "outputs": [
      {
       "javascript": [
        "IPython.notebook.set_autosave_interval(60000)"
       ],
       "metadata": {},
       "output_type": "display_data"
      },
      {
       "output_type": "stream",
       "stream": "stdout",
       "text": [
        "Autosaving every 60 seconds\n"
       ]
      }
     ],
     "prompt_number": 2
    },
    {
     "cell_type": "code",
     "collapsed": false,
     "input": [
      "from __future__ import division \n",
      "import matplotlib.pyplot as plt \n",
      "\n",
      "import numpy as np\n",
      "import sys\n",
      "import nltk\n",
      "from BeautifulSoup import BeautifulSoup as bs\n",
      "from markdown import markdown\n",
      "\n",
      "# import relevant matplotlib helper functions \n",
      "import matplotlib as mpl\n",
      "from matplotlib.dates import date2num\n",
      "\n",
      "# import relevant pandas goodies\n",
      "import pandas as pd\n",
      "from pandas import datetime\n",
      "from pandas.tseries.tools import to_datetime\n"
     ],
     "language": "python",
     "metadata": {},
     "outputs": [],
     "prompt_number": 3
    },
    {
     "cell_type": "markdown",
     "metadata": {},
     "source": [
      "import homebrewed modules "
     ]
    },
    {
     "cell_type": "code",
     "collapsed": false,
     "input": [
      "import plot\n",
      "import helper"
     ],
     "language": "python",
     "metadata": {},
     "outputs": [],
     "prompt_number": 4
    },
    {
     "cell_type": "heading",
     "level": 1,
     "metadata": {},
     "source": [
      "Disclaimer"
     ]
    },
    {
     "cell_type": "markdown",
     "metadata": {},
     "source": [
      "* There are ways to hide the code block from an ipython notebook for easy viewing but I am too lazy to configure it."
     ]
    },
    {
     "cell_type": "heading",
     "level": 1,
     "metadata": {},
     "source": [
      "Characteristics of data"
     ]
    },
    {
     "cell_type": "heading",
     "level": 2,
     "metadata": {},
     "source": [
      "Size"
     ]
    },
    {
     "cell_type": "markdown",
     "metadata": {},
     "source": [
      "> train.csv - 3.5 GB "
     ]
    },
    {
     "cell_type": "code",
     "collapsed": false,
     "input": [
      "%time df = pd.read_csv('../data/train.csv', encoding=\"utf-8\")"
     ],
     "language": "python",
     "metadata": {},
     "outputs": [
      {
       "output_type": "stream",
       "stream": "stdout",
       "text": [
        "CPU times: user 36.4 s, sys: 3.25 s, total: 39.6 s\n",
        "Wall time: 59.2 s\n"
       ]
      }
     ],
     "prompt_number": 5
    },
    {
     "cell_type": "markdown",
     "metadata": {},
     "source": [
      "pandas runtime for reading in the entire csv to a dataframe $\\approx 29.2s$, not too bad. This is still doable in Python. \n",
      "\n",
      "Fun fact: \n",
      "    wc -l train.csv\n",
      "will most certainly give the wrong line number count since some of the field values in the csv files has \"\\n\" as well. Scared me a little when it returned a 70 million line count when both R and pandas only gave ~3.3 million.\n"
     ]
    },
    {
     "cell_type": "heading",
     "level": 2,
     "metadata": {},
     "source": [
      "Examine if the data are read correctly"
     ]
    },
    {
     "cell_type": "code",
     "collapsed": false,
     "input": [
      "df.shape"
     ],
     "language": "python",
     "metadata": {},
     "outputs": [
      {
       "metadata": {},
       "output_type": "pyout",
       "prompt_number": 6,
       "text": [
        "(3370528, 15)"
       ]
      }
     ],
     "prompt_number": 6
    },
    {
     "cell_type": "code",
     "collapsed": false,
     "input": [
      "df.columns"
     ],
     "language": "python",
     "metadata": {},
     "outputs": [
      {
       "metadata": {},
       "output_type": "pyout",
       "prompt_number": 7,
       "text": [
        "Index([u'PostId', u'PostCreationDate', u'OwnerUserId', u'OwnerCreationDate', u'ReputationAtPostCreation', u'OwnerUndeletedAnswerCountAtPostTime', u'Title', u'BodyMarkdown', u'Tag1', u'Tag2', u'Tag3', u'Tag4', u'Tag5', u'PostClosedDate', u'OpenStatus'], dtype='object')"
       ]
      }
     ],
     "prompt_number": 7
    },
    {
     "cell_type": "heading",
     "level": 2,
     "metadata": {},
     "source": [
      "Properties of the observations"
     ]
    },
    {
     "cell_type": "code",
     "collapsed": false,
     "input": [
      "totalObs = df.shape[0]\n",
      "print \"Number of observations = {0} million\".format(totalObs /1e6)"
     ],
     "language": "python",
     "metadata": {},
     "outputs": [
      {
       "output_type": "stream",
       "stream": "stdout",
       "text": [
        "Number of observations = 3.370528 million\n"
       ]
      }
     ],
     "prompt_number": 8
    },
    {
     "cell_type": "heading",
     "level": 3,
     "metadata": {},
     "source": [
      "Percentage of open vs closed observations "
     ]
    },
    {
     "cell_type": "code",
     "collapsed": false,
     "input": [
      "openObs = df[df[\"OpenStatus\"] == \"open\"].shape[0]\n",
      "openpercent =  openObs / totalObs * 100"
     ],
     "language": "python",
     "metadata": {},
     "outputs": [],
     "prompt_number": 9
    },
    {
     "cell_type": "code",
     "collapsed": false,
     "input": [
      "print \"Open percent is {0:1.5f}% \\n\".format(openpercent) + \\\n",
      "    \"which is {0} # of observations, \\n\".format(openObs) + \\\n",
      "    \"Closed percent is {0:1.5f}% \\n\".format(100 - openpercent) + \\\n",
      "    \"which is {0} # of observations\".format(totalObs - openObs)"
     ],
     "language": "python",
     "metadata": {},
     "outputs": [
      {
       "output_type": "stream",
       "stream": "stdout",
       "text": [
        "Open percent is 97.91914% \n",
        "which is 3300392 # of observations, \n",
        "Closed percent is 2.08086% \n",
        "which is 70136 # of observations\n"
       ]
      }
     ],
     "prompt_number": 10
    },
    {
     "cell_type": "markdown",
     "metadata": {},
     "source": [
      "In the training data set \n",
      "> Open percent is 97.91914%, \n",
      "\n",
      "> Closed percent is 2.08086%"
     ]
    },
    {
     "cell_type": "markdown",
     "metadata": {},
     "source": [
      "Not quite the ~6% claimed by Stack Overflow."
     ]
    },
    {
     "cell_type": "heading",
     "level": 3,
     "metadata": {},
     "source": [
      "Percentage of the break down of closed reasons"
     ]
    },
    {
     "cell_type": "code",
     "collapsed": false,
     "input": [
      "reasons = \\\n",
      "[\"not constructive\", \"off topic\", \n",
      " \"not a real question\", \"too localized\"]\n",
      "\n",
      "closedObs = totalObs - openObs\n",
      "\n",
      "closedpercent = \\\n",
      "[(df[df[\"OpenStatus\"] == reason].shape[0] /\\\n",
      "  closedObs * 100) for reason in reasons]"
     ],
     "language": "python",
     "metadata": {},
     "outputs": [],
     "prompt_number": 11
    },
    {
     "cell_type": "markdown",
     "metadata": {},
     "source": [
      "\n",
      "<table>\n",
      "<tr><td>Reason for closing question</td><td>% out of all closed questions</td>\n",
      "<tr>\n",
      "<td> too localized </td><td>8.78% </td>\n",
      "</tr>\n",
      "<tr>\n",
      "<td> not constructive </td><td>22.33% </td>\n",
      "</tr>\n",
      "<tr>\n",
      "<td> off topic </td><td>24.99% </td>\n",
      "</tr>\n",
      "<tr>\n",
      "<td> not a real question </td><td>43.90% </td>\n",
      "</tr>\n",
      "</table>"
     ]
    },
    {
     "cell_type": "heading",
     "level": 2,
     "metadata": {},
     "source": [
      "Alias the closed questions and open questions for data exploration"
     ]
    },
    {
     "cell_type": "heading",
     "level": 1,
     "metadata": {},
     "source": [
      "Nature of the given fields in the csv"
     ]
    },
    {
     "cell_type": "code",
     "collapsed": false,
     "input": [
      "df.columns"
     ],
     "language": "python",
     "metadata": {},
     "outputs": [
      {
       "metadata": {},
       "output_type": "pyout",
       "prompt_number": 12,
       "text": [
        "Index([u'PostId', u'PostCreationDate', u'OwnerUserId', u'OwnerCreationDate', u'ReputationAtPostCreation', u'OwnerUndeletedAnswerCountAtPostTime', u'Title', u'BodyMarkdown', u'Tag1', u'Tag2', u'Tag3', u'Tag4', u'Tag5', u'PostClosedDate', u'OpenStatus'], dtype='object')"
       ]
      }
     ],
     "prompt_number": 12
    },
    {
     "cell_type": "code",
     "collapsed": false,
     "input": [
      "num = [4, 5]\n",
      "numCol = df.columns[num] #quantative \n",
      "date = [1, 3, 13]\n",
      "dateCol = df.columns[date]\n",
      "label = [2] + range(8, 13) #categorical\n",
      "labelCol = df.columns[label]\n",
      "content = [6, 7] + range(8, 13)\n",
      "contentCol = df.columns[content]\n",
      "\n",
      "print \"{0} are numbers for which \".format(numCol) + \\\n",
      "\"the statistics like sample mean / median have some meaning\"\n",
      "print \"{0} are dates\".format(dateCol)\n",
      "print \"{0} \\n are categories to label stuff\".format(labelCol)\n",
      "print \"{0} \\n belong to actual content\".format(contentCol)"
     ],
     "language": "python",
     "metadata": {},
     "outputs": [
      {
       "output_type": "stream",
       "stream": "stdout",
       "text": [
        "Index([u'ReputationAtPostCreation', u'OwnerUndeletedAnswerCountAtPostTime'], dtype='object') are numbers for which the statistics like sample mean / median have some meaning\n",
        "Index([u'PostCreationDate', u'OwnerCreationDate', u'PostClosedDate'], dtype='object') are dates\n",
        "Index([u'OwnerUserId', u'Tag1', u'Tag2', u'Tag3', u'Tag4', u'Tag5'], dtype='object') \n",
        " are categories to label stuff\n",
        "Index([u'Title', u'BodyMarkdown', u'Tag1', u'Tag2', u'Tag3', u'Tag4', u'Tag5'], dtype='object') \n",
        " belong to actual content\n"
       ]
      }
     ],
     "prompt_number": 13
    },
    {
     "cell_type": "code",
     "collapsed": false,
     "input": [
      "print contentCol"
     ],
     "language": "python",
     "metadata": {},
     "outputs": [
      {
       "output_type": "stream",
       "stream": "stdout",
       "text": [
        "Index([u'Title', u'BodyMarkdown', u'Tag1', u'Tag2', u'Tag3', u'Tag4', u'Tag5'], dtype='object')\n"
       ]
      }
     ],
     "prompt_number": 14
    },
    {
     "cell_type": "heading",
     "level": 2,
     "metadata": {},
     "source": [
      "Guesses of which given variables are more important"
     ]
    },
    {
     "cell_type": "markdown",
     "metadata": {},
     "source": [
      "the postID is the most useless field and can be ignored"
     ]
    },
    {
     "cell_type": "heading",
     "level": 3,
     "metadata": {},
     "source": [
      "Fields that (I guess) are going to be related to one another"
     ]
    },
    {
     "cell_type": "markdown",
     "metadata": {},
     "source": [
      "* ReputationAtPostCreation - OwnerUndeletedAnswerCountAtPostTime - OwnerUserId \n",
      "* Title - BodyMarkdown - TagN \n",
      "* OwnerCreationDate - PostCreationDate ------- if it is a newer user, s/he may be less familiar with the rules "
     ]
    },
    {
     "cell_type": "code",
     "collapsed": false,
     "input": [
      "reload(plot)\n",
      "for col in numCol:\n",
      "    plot.plot_mean_median(col, reasons, df)\n",
      "    plt.show()\n",
      "    plt.close()"
     ],
     "language": "python",
     "metadata": {},
     "outputs": [
      {
       "metadata": {},
       "output_type": "display_data",
       "png": "[encoded data removed]",
       "text": [
        "<matplotlib.figure.Figure at 0x3f4bdd0>"
       ]
      },
      {
       "metadata": {},
       "output_type": "display_data",
       "png": "[encoded data removed]",
       "text": [
        "<matplotlib.figure.Figure at 0x38d41ca90>"
       ]
      }
     ],
     "prompt_number": 15
    },
    {
     "cell_type": "markdown",
     "metadata": {},
     "source": [
      "Observations\n",
      "* Seems like most of the posts are made by people with low reputation and there is a small population of users with a lot higher reputation.\n",
      "\n",
      "\n",
      "* There seem to be a mathematical function that approximately maps user reputation to the # of undeleted answer count - the two plots look awfully similar. See this [Quora post](http://www.quora.com/Stack-Overflow-4/How-is-Stack-Overflows-reputation-score-calculated) "
     ]
    },
    {
     "cell_type": "heading",
     "level": 1,
     "metadata": {},
     "source": [
      "Process the dates"
     ]
    },
    {
     "cell_type": "markdown",
     "metadata": {},
     "source": [
      "There are three fields that take forms of date and time."
     ]
    },
    {
     "cell_type": "markdown",
     "metadata": {},
     "source": [
      "reason = 0 \n",
      "closed = df[df[\"OpenStatus\"] != \"open\"]\n",
      "print dateCol\n",
      "print closed[dateCol[0]].iloc[2]\n",
      "print closed[dateCol[1]].iloc[2]\n",
      "print closed[dateCol[2]].iloc[2]\n",
      "\n",
      "\n",
      "closed['postDate'] = \\\n",
      "    pd.DataFrame(to_datetime(closed[dateCol[0]], dayfirst = True, \n",
      "                             infer_datetime_format=True, coerce=True))\n",
      "closed['ownerStartDate'] = \\\n",
      "    pd.DataFrame(to_datetime(closed[dateCol[1]], dayfirst = True, \n",
      "                             infer_datetime_format=True, unit='D'))"
     ]
    },
    {
     "cell_type": "markdown",
     "metadata": {},
     "source": [
      "Make sure that pandas recognizes that these fields "
     ]
    },
    {
     "cell_type": "markdown",
     "metadata": {},
     "source": [
      "In order to make these fields meaningful, we should create new variables to describe the differences of the dates."
     ]
    },
    {
     "cell_type": "markdown",
     "metadata": {},
     "source": [
      "closed['postDate'].dtype\n",
      "closed['postDuration'] = \\\n",
      "    date2num(closed['postCloseDate']) - date2num(closed['postDate'])"
     ]
    },
    {
     "cell_type": "markdown",
     "metadata": {},
     "source": [
      "closed['ownerExperienceInDays'] = \\\n",
      "    date2num(closed['postDate']) - date2num(closed['ownerStartDate'])"
     ]
    },
    {
     "cell_type": "markdown",
     "metadata": {},
     "source": [
      "dateCol"
     ]
    },
    {
     "cell_type": "markdown",
     "metadata": {},
     "source": [
      "closed[closed['ownerExperienceInDays'] < 0][dateCol[0]].iloc[:5]"
     ]
    },
    {
     "cell_type": "markdown",
     "metadata": {},
     "source": [
      "closed[closed['ownerExperienceInDays'] < 0][\"OwnerCreationDate\"].iloc[:5]"
     ]
    },
    {
     "cell_type": "markdown",
     "metadata": {},
     "source": [
      "closed[closed['ownerExperienceInDays'] < 0][\"ownerExperienceInDays\"].iloc[:5]"
     ]
    },
    {
     "cell_type": "markdown",
     "metadata": {},
     "source": [
      "for reason in reasons:\n",
      "    j1, j2, j3 = \\\n",
      "        plt.hist(np.array(closed['ownerExperienceInDays'][closed[\"OpenStatus\"]==reason]),\n",
      "                 label=reason, histtype='step', bins=30, normed=True, alpha=0.5)\n",
      "plt.legend(loc='best')"
     ]
    },
    {
     "cell_type": "markdown",
     "metadata": {},
     "source": [
      "for reason in reasons:\n",
      "    j1, j2, j3 = \\\n",
      "        plt.hist(np.array(closed['postDuration'][closed[\"OpenStatus\"]==reason]),\n",
      "                 label=reason, bins=40, histtype='step', normed=True, alpha=0.5)\n",
      "plt.legend(loc='best')"
     ]
    },
    {
     "cell_type": "markdown",
     "metadata": {},
     "source": [
      "for reason in reasons:\n",
      "    plt.plot(closed['postDuration'][closed[\"OpenStatus\"] == reason], 'x',\n",
      "             label=reason)\n",
      "plt.legend(loc='best')"
     ]
    },
    {
     "cell_type": "heading",
     "level": 1,
     "metadata": {},
     "source": [
      "Explore the markdown questions"
     ]
    },
    {
     "cell_type": "markdown",
     "metadata": {},
     "source": [
      "We can convert the questions from mixed markdown format to plain text by taking the following steps:\n",
      "\n",
      "* convert markdown to well defined html using python module \"markdown\"\n",
      "* remove all html tags using python module \"beautifulsoup\"\n",
      "* normalize weird unicode \n",
      "\n",
      "No node.js or pagedown needed even though I went through the trouble of installing both of those things."
     ]
    },
    {
     "cell_type": "markdown",
     "metadata": {},
     "source": [
      "It seems quite hard to do NLP correctly to get extra performance.\n",
      "\n"
     ]
    },
    {
     "cell_type": "code",
     "collapsed": false,
     "input": [
      "reload(sys)\n",
      "#sys.setdefaultencoding('ascii')"
     ],
     "language": "python",
     "metadata": {},
     "outputs": [],
     "prompt_number": 16
    },
    {
     "cell_type": "code",
     "collapsed": false,
     "input": [
      "type(test)"
     ],
     "language": "python",
     "metadata": {},
     "outputs": []
    },
    {
     "cell_type": "code",
     "collapsed": false,
     "input": [
      "output = markdown(test)"
     ],
     "language": "python",
     "metadata": {},
     "outputs": []
    },
    {
     "cell_type": "code",
     "collapsed": false,
     "input": [
      "cleaned = nltk.clean_html(html)\n",
      "cleaned = cleaned.translate({ord(u\"\\u2019\"):ord(u\"'\")})"
     ],
     "language": "python",
     "metadata": {},
     "outputs": []
    },
    {
     "cell_type": "code",
     "collapsed": false,
     "input": [
      "tokens = nltk.word_tokenize(cleaned)\n",
      "pos = nltk.pos_tag(tokens)\n",
      "pos"
     ],
     "language": "python",
     "metadata": {},
     "outputs": [
      {
       "metadata": {},
       "output_type": "pyout",
       "prompt_number": 60,
       "text": [
        "[(u'Why', 'WRB'),\n",
        " (u'is', 'VBZ'),\n",
        " (u'it', 'PRP'),\n",
        " (u'needed', 'VBD'),\n",
        " (u'?', '.'),\n",
        " (u'When', 'WRB'),\n",
        " (u'data', 'NNS'),\n",
        " (u'is', 'VBZ'),\n",
        " (u'stored', 'VBN'),\n",
        " (u'on', 'IN'),\n",
        " (u'disk', 'NN'),\n",
        " (u'based', 'VBN'),\n",
        " (u'storage', 'NN'),\n",
        " (u'devices', 'NNS'),\n",
        " (u',', ','),\n",
        " (u'it', 'PRP'),\n",
        " (u'is', 'VBZ'),\n",
        " (u'stored', 'VBN'),\n",
        " (u'as', 'RB'),\n",
        " (u'blocks', 'VBZ'),\n",
        " (u'of', 'IN'),\n",
        " (u'data.', 'NNP'),\n",
        " (u'These', 'NNP'),\n",
        " (u'blocks', 'NNS'),\n",
        " (u'are', 'VBP'),\n",
        " (u'accessed', 'VBN'),\n",
        " (u'in', 'IN'),\n",
        " (u'their', 'PRP$'),\n",
        " (u'entirety', 'NN'),\n",
        " (u',', ','),\n",
        " (u'making', 'VBG'),\n",
        " (u'them', 'PRP'),\n",
        " (u'the', 'DT'),\n",
        " (u'atomic', 'JJ'),\n",
        " (u'disk', 'NN'),\n",
        " (u'access', 'NN'),\n",
        " (u'operation.', 'NNP'),\n",
        " (u'Disk', 'NNP'),\n",
        " (u'blocks', 'VBZ'),\n",
        " (u'are', 'VBP'),\n",
        " (u'structured', 'VBN'),\n",
        " (u'in', 'IN'),\n",
        " (u'much', 'JJ'),\n",
        " (u'the', 'DT'),\n",
        " (u'same', 'JJ'),\n",
        " (u'way', 'NN'),\n",
        " (u'as', 'IN'),\n",
        " (u'linked', 'VBN'),\n",
        " (u'lists', 'NNS'),\n",
        " (u';', ':'),\n",
        " (u'both', 'DT'),\n",
        " (u'contain', 'NN'),\n",
        " (u'a', 'DT'),\n",
        " (u'section', 'NN'),\n",
        " (u'for', 'IN'),\n",
        " (u'data', 'NNS'),\n",
        " (u',', ','),\n",
        " (u'a', 'DT'),\n",
        " (u'pointer', 'NN'),\n",
        " (u'to', 'TO'),\n",
        " (u'the', 'DT'),\n",
        " (u'location', 'NN'),\n",
        " (u'of', 'IN'),\n",
        " (u'the', 'DT'),\n",
        " (u'next', 'JJ'),\n",
        " (u'node', 'NN'),\n",
        " (u'(', ':'),\n",
        " (u'or', 'CC'),\n",
        " (u'block', 'NN'),\n",
        " (u')', ':'),\n",
        " (u',', ','),\n",
        " (u'and', 'CC'),\n",
        " (u'both', 'DT'),\n",
        " (u'need', 'NN'),\n",
        " (u'not', 'RB'),\n",
        " (u'be', 'VB'),\n",
        " (u'stored', 'VBN'),\n",
        " (u'contiguously.', '-NONE-'),\n",
        " (u'Due', 'JJ'),\n",
        " (u'to', 'TO'),\n",
        " (u'the', 'DT'),\n",
        " (u'fact', 'NN'),\n",
        " (u'that', 'IN'),\n",
        " (u'a', 'DT'),\n",
        " (u'number', 'NN'),\n",
        " (u'of', 'IN'),\n",
        " (u'records', 'NNS'),\n",
        " (u'can', 'MD'),\n",
        " (u'only', 'RB'),\n",
        " (u'be', 'VB'),\n",
        " (u'sorted', 'VBN'),\n",
        " (u'on', 'IN'),\n",
        " (u'one', 'CD'),\n",
        " (u'field', 'NN'),\n",
        " (u',', ','),\n",
        " (u'we', 'PRP'),\n",
        " (u'can', 'MD'),\n",
        " (u'state', 'VB'),\n",
        " (u'that', 'IN'),\n",
        " (u'searching', 'NN'),\n",
        " (u'on', 'IN'),\n",
        " (u'a', 'DT'),\n",
        " (u'field', 'NN'),\n",
        " (u'that', 'WDT'),\n",
        " (u'is', 'VBZ'),\n",
        " (u\"n't\", 'RB'),\n",
        " (u'sorted', 'VBN'),\n",
        " (u'requires', 'NNS'),\n",
        " (u'a', 'DT'),\n",
        " (u'Linear', 'NNP'),\n",
        " (u'Search', 'NNP'),\n",
        " (u'which', 'WDT'),\n",
        " (u'requires', 'VBZ'),\n",
        " (u'N/2', '-NONE-'),\n",
        " (u'block', 'NN'),\n",
        " (u'accesses', 'NNS'),\n",
        " (u',', ','),\n",
        " (u'where', 'WRB'),\n",
        " (u'N', 'NNP'),\n",
        " (u'is', 'VBZ'),\n",
        " (u'the', 'DT'),\n",
        " (u'number', 'NN'),\n",
        " (u'of', 'IN'),\n",
        " (u'blocks', 'NNS'),\n",
        " (u'that', 'WDT'),\n",
        " (u'the', 'DT'),\n",
        " (u'table', 'NN'),\n",
        " (u'spans.', 'NNP'),\n",
        " (u'If', 'NNP'),\n",
        " (u'that', 'IN'),\n",
        " (u'field', 'NN'),\n",
        " (u'is', 'VBZ'),\n",
        " (u'a', 'DT'),\n",
        " (u'non-key', 'JJ'),\n",
        " (u'field', 'NN'),\n",
        " (u'(', ':'),\n",
        " (u'i.e.', 'NNP'),\n",
        " (u'does', 'VBZ'),\n",
        " (u\"n't\", 'RB'),\n",
        " (u'contain', 'VB'),\n",
        " (u'unique', 'JJ'),\n",
        " (u'entries', 'NNS'),\n",
        " (u')', ':'),\n",
        " (u'then', 'RB'),\n",
        " (u'the', 'DT'),\n",
        " (u'entire', 'JJ'),\n",
        " (u'table', 'NN'),\n",
        " (u'space', 'NN'),\n",
        " (u'must', 'MD'),\n",
        " (u'be', 'VB'),\n",
        " (u'searched', 'VBN'),\n",
        " (u'at', 'IN'),\n",
        " (u'N', 'NNP'),\n",
        " (u'block', 'NN'),\n",
        " (u'accesses.', 'NNP'),\n",
        " (u'Whereas', 'NNP'),\n",
        " (u'with', 'IN'),\n",
        " (u'a', 'DT'),\n",
        " (u'sor', 'NN')]"
       ]
      }
     ],
     "prompt_number": 60
    },
    {
     "cell_type": "code",
     "collapsed": false,
     "input": [],
     "language": "python",
     "metadata": {},
     "outputs": []
    },
    {
     "cell_type": "code",
     "collapsed": false,
     "input": [
      "reload(helper)\n",
      "helper.print_question(closed, row, reason, contentCol)"
     ],
     "language": "python",
     "metadata": {},
     "outputs": [
      {
       "ename": "NameError",
       "evalue": "name 'closed' is not defined",
       "output_type": "pyerr",
       "traceback": [
        "\u001b[1;31m---------------------------------------------------------------------------\u001b[0m\n\u001b[1;31mNameError\u001b[0m                                 Traceback (most recent call last)",
        "\u001b[1;32m<ipython-input-61-358a66fccf74>\u001b[0m in \u001b[0;36m<module>\u001b[1;34m()\u001b[0m\n\u001b[0;32m      1\u001b[0m \u001b[0mreload\u001b[0m\u001b[1;33m(\u001b[0m\u001b[0mhelper\u001b[0m\u001b[1;33m)\u001b[0m\u001b[1;33m\u001b[0m\u001b[0m\n\u001b[1;32m----> 2\u001b[1;33m \u001b[0mhelper\u001b[0m\u001b[1;33m.\u001b[0m\u001b[0mprint_question\u001b[0m\u001b[1;33m(\u001b[0m\u001b[0mclosed\u001b[0m\u001b[1;33m,\u001b[0m \u001b[0mrow\u001b[0m\u001b[1;33m,\u001b[0m \u001b[0mreason\u001b[0m\u001b[1;33m,\u001b[0m \u001b[0mcontentCol\u001b[0m\u001b[1;33m)\u001b[0m\u001b[1;33m\u001b[0m\u001b[0m\n\u001b[0m",
        "\u001b[1;31mNameError\u001b[0m: name 'closed' is not defined"
       ]
      }
     ],
     "prompt_number": 61
    },
    {
     "cell_type": "code",
     "collapsed": false,
     "input": [],
     "language": "python",
     "metadata": {},
     "outputs": []
    }
   ],
   "metadata": {}
  }
 ]
}