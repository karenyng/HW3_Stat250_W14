{
 "metadata": {
  "name": "",
  "signature": "sha256:a9685838412f1f7b40c8e0b44b552c160f86e24c61d3e9632b47145ddaa9deb0"
 },
 "nbformat": 3,
 "nbformat_minor": 0,
 "worksheets": [
  {
   "cells": [
    {
     "cell_type": "code",
     "collapsed": false,
     "input": [
      "%autosave 60\n",
      "%matplotlib inline\n",
      "\n",
      "from IPython.display import Image\n",
      "#enable or disable pdb for debugging\n",
      "#%pdb"
     ],
     "language": "python",
     "metadata": {},
     "outputs": [
      {
       "javascript": [
        "IPython.notebook.set_autosave_interval(60000)"
       ],
       "metadata": {},
       "output_type": "display_data"
      },
      {
       "output_type": "stream",
       "stream": "stdout",
       "text": [
        "Autosaving every 60 seconds\n"
       ]
      }
     ],
     "prompt_number": 1
    },
    {
     "cell_type": "code",
     "collapsed": false,
     "input": [
      "from __future__ import division \n",
      "import matplotlib.pyplot as plt \n",
      "\n",
      "import numpy as np\n",
      "import sys\n",
      "import nltk\n",
      "from markdown import markdown\n",
      "\n",
      "# import relevant matplotlib helper functions \n",
      "import matplotlib as mpl\n",
      "from matplotlib.dates import date2num\n",
      "\n",
      "# import relevant pandas goodies\n",
      "import pandas as pd\n",
      "from pandas import datetime\n",
      "from pandas.tseries.tools import to_datetime\n",
      "\n",
      "import time"
     ],
     "language": "python",
     "metadata": {},
     "outputs": [],
     "prompt_number": 96
    },
    {
     "cell_type": "markdown",
     "metadata": {},
     "source": [
      "import homebrewed modules "
     ]
    },
    {
     "cell_type": "code",
     "collapsed": false,
     "input": [
      "import plot\n",
      "import helper"
     ],
     "language": "python",
     "metadata": {},
     "outputs": [],
     "prompt_number": 3
    },
    {
     "cell_type": "heading",
     "level": 1,
     "metadata": {},
     "source": [
      "Disclaimer"
     ]
    },
    {
     "cell_type": "markdown",
     "metadata": {},
     "source": [
      "* There are ways to hide the code block from an ipython notebook for easy viewing but I am too lazy to configure it."
     ]
    },
    {
     "cell_type": "heading",
     "level": 1,
     "metadata": {},
     "source": [
      "Characteristics of data"
     ]
    },
    {
     "cell_type": "heading",
     "level": 2,
     "metadata": {},
     "source": [
      "Size"
     ]
    },
    {
     "cell_type": "markdown",
     "metadata": {},
     "source": [
      "> train.csv - 3.5 GB "
     ]
    },
    {
     "cell_type": "code",
     "collapsed": false,
     "input": [
      "%time df = pd.read_csv('train.csv')"
     ],
     "language": "python",
     "metadata": {},
     "outputs": []
    },
    {
     "cell_type": "markdown",
     "metadata": {},
     "source": [
      "pandas runtime for reading in the entire csv to a dataframe $\\approx 29.2s$, not too bad. This is still doable in Python. \n",
      "\n",
      "Fun fact: \n",
      "    wc -l train.csv\n",
      "will most certainly give the wrong line number count since some of the field values in the csv files has \"\\n\" as well. Scared me a little when it returned a 70 million line count when both R and pandas only gave ~3.3 million.\n"
     ]
    },
    {
     "cell_type": "heading",
     "level": 2,
     "metadata": {},
     "source": [
      "Examine if the data are read correctly"
     ]
    },
    {
     "cell_type": "code",
     "collapsed": false,
     "input": [
      "df.shape"
     ],
     "language": "python",
     "metadata": {},
     "outputs": [
      {
       "metadata": {},
       "output_type": "pyout",
       "prompt_number": 5,
       "text": [
        "(3370528, 15)"
       ]
      }
     ],
     "prompt_number": 5
    },
    {
     "cell_type": "code",
     "collapsed": false,
     "input": [
      "df.columns"
     ],
     "language": "python",
     "metadata": {},
     "outputs": [
      {
       "metadata": {},
       "output_type": "pyout",
       "prompt_number": 187,
       "text": [
        "Index([u'PostId', u'PostCreationDate', u'OwnerUserId', u'OwnerCreationDate', u'ReputationAtPostCreation', u'OwnerUndeletedAnswerCountAtPostTime', u'Title', u'BodyMarkdown', u'Tag1', u'Tag2', u'Tag3', u'Tag4', u'Tag5', u'PostClosedDate', u'OpenStatus', u'postOwnerTimeDiff'], dtype='object')"
       ]
      }
     ],
     "prompt_number": 187
    },
    {
     "cell_type": "heading",
     "level": 2,
     "metadata": {},
     "source": [
      "Properties of the observations"
     ]
    },
    {
     "cell_type": "code",
     "collapsed": false,
     "input": [
      "totalObs = df.shape[0]\n",
      "print \"Number of observations = {0} million\".format(totalObs /1e6)"
     ],
     "language": "python",
     "metadata": {},
     "outputs": [
      {
       "output_type": "stream",
       "stream": "stdout",
       "text": [
        "Number of observations = 3.370528 million\n"
       ]
      }
     ],
     "prompt_number": 7
    },
    {
     "cell_type": "heading",
     "level": 3,
     "metadata": {},
     "source": [
      "Percentage of open vs closed observations "
     ]
    },
    {
     "cell_type": "code",
     "collapsed": false,
     "input": [
      "openObs = df[df[\"OpenStatus\"] == \"open\"].shape[0]\n",
      "openpercent =  openObs / totalObs * 100"
     ],
     "language": "python",
     "metadata": {},
     "outputs": [],
     "prompt_number": 8
    },
    {
     "cell_type": "code",
     "collapsed": false,
     "input": [
      "print \"Open percent is {0:1.5f}% \\n\".format(openpercent) + \\\n",
      "    \"which is {0} # of observations, \\n\".format(openObs) + \\\n",
      "    \"Closed percent is {0:1.5f}% \\n\".format(100 - openpercent) + \\\n",
      "    \"which is {0} # of observations\".format(totalObs - openObs)"
     ],
     "language": "python",
     "metadata": {},
     "outputs": [
      {
       "output_type": "stream",
       "stream": "stdout",
       "text": [
        "Open percent is 97.91914% \n",
        "which is 3300392 # of observations, \n",
        "Closed percent is 2.08086% \n",
        "which is 70136 # of observations\n"
       ]
      }
     ],
     "prompt_number": 9
    },
    {
     "cell_type": "markdown",
     "metadata": {},
     "source": [
      "In the training data set \n",
      "> Open percent is 97.91914%, \n",
      "\n",
      "> Closed percent is 2.08086%"
     ]
    },
    {
     "cell_type": "markdown",
     "metadata": {},
     "source": [
      "Not quite the ~6% claimed by Stack Overflow."
     ]
    },
    {
     "cell_type": "heading",
     "level": 3,
     "metadata": {},
     "source": [
      "Percentage of the break down of closed reasons"
     ]
    },
    {
     "cell_type": "code",
     "collapsed": false,
     "input": [
      "reasons = \\\n",
      "[\"not constructive\", \"off topic\", \n",
      " \"not a real question\", \"too localized\"]\n",
      "\n",
      "closedObs = totalObs - openObs\n",
      "\n",
      "closedpercent = \\\n",
      "[(df[df[\"OpenStatus\"] == reason].shape[0] /\\\n",
      "  closedObs * 100) for reason in reasons]"
     ],
     "language": "python",
     "metadata": {},
     "outputs": [],
     "prompt_number": 10
    },
    {
     "cell_type": "markdown",
     "metadata": {},
     "source": [
      "\n",
      "<table>\n",
      "<tr><td>Reason for closing question</td><td>% out of all closed questions</td>\n",
      "<tr>\n",
      "<td> too localized </td><td>8.78% </td>\n",
      "</tr>\n",
      "<tr>\n",
      "<td> not constructive </td><td>22.33% </td>\n",
      "</tr>\n",
      "<tr>\n",
      "<td> off topic </td><td>24.99% </td>\n",
      "</tr>\n",
      "<tr>\n",
      "<td> not a real question </td><td>43.90% </td>\n",
      "</tr>\n",
      "</table>"
     ]
    },
    {
     "cell_type": "heading",
     "level": 1,
     "metadata": {},
     "source": [
      "Nature of the given fields in the csv"
     ]
    },
    {
     "cell_type": "markdown",
     "metadata": {},
     "source": [
      "<table>\n",
      "<tr><td><b>type</b> </td><td><b>given variables</b></td><td><b>comment</b></td>\n",
      "<tr>\n",
      "<td> number </td><td>ReputationAtPostCreation, OwnerUndeletedAnswerCountAtPostTime  </td><td> the means / medians of these numbers actually mean something </td> \n",
      "</tr>\n",
      "<tr>\n",
      "<td> dates </td><td> PostCreationDate, OwnerCreationDate</td><td> not sure if the actual date matters I argue that the difference of those dates matter more</td>\n",
      "</tr>\n",
      "<tr>\n",
      "<td> categories </td><td>OwnerUserId and the tags </td> <td> for classification purposes but it seems hard to use OwnerUserId to predict if the questions should be closed or not unless s/he has asked a lot of questions before</td>\n",
      "</tr>\n",
      "<tr>\n",
      "<td> actual question content </td><td> Title, BodyMarkdown, Tags </td><td> not seeing how to make use of these unless we do some advanced NLP to make the machine understand the context of the questions </td>\n",
      "</tr>\n",
      "<tr>\n",
      "<td> extraneous info? </td><td> PostID </td><td> not seeing how this is useful except it is a unique identifier but we do not care </td>\n",
      "</tr>\n",
      "</table>"
     ]
    },
    {
     "cell_type": "code",
     "collapsed": false,
     "input": [
      "num = [4, 5]\n",
      "numCol = df.columns[num] #quantative \n",
      "date = [1, 3]\n",
      "dateCol = df.columns[date]\n",
      "label = [2] + range(8, 13) #categorical\n",
      "labelCol = df.columns[label]\n",
      "content = [6, 7] + range(8, 13)\n",
      "contentCol = df.columns[content]\n",
      "output= [13, 14]\n",
      "outputCol = df.columns[output]"
     ],
     "language": "python",
     "metadata": {},
     "outputs": [],
     "prompt_number": 11
    },
    {
     "cell_type": "heading",
     "level": 2,
     "metadata": {},
     "source": [
      "Guesses of which given variables are more important"
     ]
    },
    {
     "cell_type": "markdown",
     "metadata": {},
     "source": [
      "the postID is the most useless field and can be ignored"
     ]
    },
    {
     "cell_type": "heading",
     "level": 3,
     "metadata": {},
     "source": [
      "Fields that (I guess) are going to be related to one another"
     ]
    },
    {
     "cell_type": "markdown",
     "metadata": {},
     "source": [
      "* ReputationAtPostCreation - OwnerUndeletedAnswerCountAtPostTime - OwnerUserId \n",
      "* Title - BodyMarkdown - TagN \n",
      "* OwnerCreationDate - PostCreationDate ------- if it is a newer user, s/he may be less familiar with the rules "
     ]
    },
    {
     "cell_type": "code",
     "collapsed": false,
     "input": [
      "reload(plot)\n",
      "for col in numCol:\n",
      "    plot.plot_mean_median(col, reasons, df)\n",
      "    plt.show()\n",
      "    plt.close()"
     ],
     "language": "python",
     "metadata": {},
     "outputs": [
      {
       "metadata": {},
       "output_type": "display_data",
       "png": "[encoded data removed]",
       "text": [
        "<matplotlib.figure.Figure at 0x10f46f410>"
       ]
      },
      {
       "metadata": {},
       "output_type": "display_data",
       "png": "[encoded data removed]",
       "text": [
        "<matplotlib.figure.Figure at 0x10f4955d0>"
       ]
      }
     ],
     "prompt_number": 12
    },
    {
     "cell_type": "heading",
     "level": 4,
     "metadata": {},
     "source": [
      "Observations"
     ]
    },
    {
     "cell_type": "markdown",
     "metadata": {},
     "source": [
      "\n",
      "* Seems like most of the posts are made by people with low reputation and there is a small population of users with a lot higher reputation.\n",
      "\n",
      "\n",
      "* There seem to be a mathematical function that approximately maps user reputation to the # of undeleted answer count - the two plots look awfully similar. No this should not be a bug. See this [Quora post](http://www.quora.com/Stack-Overflow-4/How-is-Stack-Overflows-reputation-score-calculated) about how SO computes the user reputation and how the x-axes of those two plots differ.\n",
      "\n",
      "\n",
      "* the reputation may already represent all the info from \"OwnerUndeletedAnswerCountAtPostTime\" and take more info into account. I may not user OwnerUndeletedAnswerCountAtPostTime for classification.\n",
      "\n",
      "\n",
      "* The reputation may be ok for predicting the question being closed due to the reasons other than \"not constructive\". In this training data set, only 22% of the closed questions are under \"not constructive\" so it is not a huge problem that reputation will not predict very well."
     ]
    },
    {
     "cell_type": "markdown",
     "metadata": {},
     "source": []
    },
    {
     "cell_type": "heading",
     "level": 1,
     "metadata": {},
     "source": [
      "Handle the dates in the posts "
     ]
    },
    {
     "cell_type": "markdown",
     "metadata": {},
     "source": [
      "The date time handling from python is buggy and slow. "
     ]
    },
    {
     "cell_type": "code",
     "collapsed": false,
     "input": [
      "%time df['PostCreationDate'] = \\\n",
      "    df['PostCreationDate'].apply(pd.Timestamp)"
     ],
     "language": "python",
     "metadata": {},
     "outputs": [
      {
       "output_type": "stream",
       "stream": "stdout",
       "text": [
        "CPU times: user 1min 55s, sys: 1.93 s, total: 1min 57s\n",
        "Wall time: 1min 56s\n"
       ]
      }
     ],
     "prompt_number": 136
    },
    {
     "cell_type": "code",
     "collapsed": false,
     "input": [
      "%time df['OwnerCreationDate'] = \\\n",
      "    df['OwnerCreationDate'].apply(pd.Timestamp)"
     ],
     "language": "python",
     "metadata": {},
     "outputs": []
    },
    {
     "cell_type": "code",
     "collapsed": false,
     "input": [
      "%time df['postOwnerTimeDiff'] = \\\n",
      "    df['PostCreationDate'] - df['OwnerCreationDate']\n",
      "df['postOwnerTimeDiff'] = df['postOwnerTimeDiff'].apply(float)"
     ],
     "language": "python",
     "metadata": {},
     "outputs": [
      {
       "output_type": "stream",
       "stream": "stdout",
       "text": [
        "CPU times: user 5.6 s, sys: 72 ms, total: 5.67 s\n",
        "Wall time: 5.58 s\n"
       ]
      }
     ],
     "prompt_number": 195
    },
    {
     "cell_type": "markdown",
     "metadata": {},
     "source": [
      "Have no idea why the time difference would be in units of nanoseconds... Convert back to be in units of days........\n",
      "Also the subtraction process will somehow make the time difference become negative even when everything is positive. I have checked manually, the magnitude for the subtraction is correct while the sign is not .......! A bug report should be submitted."
     ]
    },
    {
     "cell_type": "code",
     "collapsed": false,
     "input": [
      "df['postOwnerTimeDiff'] = \\\n",
      "    np.round(np.abs(df['postOwnerTimeDiff'] / 1e9 / 60. / 60. / 24.))"
     ],
     "language": "python",
     "metadata": {},
     "outputs": [],
     "prompt_number": 197
    },
    {
     "cell_type": "heading",
     "level": 1,
     "metadata": {},
     "source": [
      "Alias the closed questions and open questions for data exploration"
     ]
    },
    {
     "cell_type": "code",
     "collapsed": false,
     "input": [
      "reason = 0 \n",
      "closed = df[df[\"OpenStatus\"] != \"open\"]\n",
      "opened = df[df[\"OpenStatus\"] == \"open\"] "
     ],
     "language": "python",
     "metadata": {},
     "outputs": [],
     "prompt_number": 198
    },
    {
     "cell_type": "code",
     "collapsed": false,
     "input": [
      "j1, j2, j3 = plt.hist(np.array(closed['postOwnerTimeDiff']), bins=30)\n",
      "plt.xlabel('Time diff between post and owner creation (Days)', size=15)"
     ],
     "language": "python",
     "metadata": {},
     "outputs": [
      {
       "metadata": {},
       "output_type": "pyout",
       "prompt_number": 204,
       "text": [
        "<matplotlib.text.Text at 0x11101650>"
       ]
      },
      {
       "metadata": {},
       "output_type": "display_data",
       "png": "[encoded data removed]",
       "text": [
        "<matplotlib.figure.Figure at 0x11186b90>"
       ]
      }
     ],
     "prompt_number": 204
    },
    {
     "cell_type": "heading",
     "level": 1,
     "metadata": {},
     "source": [
      "Explore the markdown questions"
     ]
    },
    {
     "cell_type": "markdown",
     "metadata": {},
     "source": [
      "We can convert the questions from mixed markdown format to plain text by taking the following steps:\n",
      "\n",
      "* convert markdown to well defined html using python module \"markdown\"\n",
      "* remove all html tags nltk.clean_html()\n",
      "* normalize weird unicode symbols\n",
      "\n",
      "No node.js or pagedown needed. (Even though I went through the trouble of installing and playing with both of those things)."
     ]
    },
    {
     "cell_type": "markdown",
     "metadata": {},
     "source": [
      "It seems quite hard to do NLP correctly to get extra performance.\n",
      "We will have to \n",
      "\n",
      "\n",
      "1. first teach our algorithm what the questions mean, then \n",
      "2. have the machine compare the meaning of the questions and titles with the tags and the different reasons for closing the question \n",
      "3. maybe compute a score of relevance as a variable before merging this variable as a field in the dataframe\n",
      "\n",
      "Step 1 is hard because there are also acronyms used that might not get labeled correctly.\n",
      "\n",
      "Step 2 & 3 would require defining a scope of relevant words in the programming community.\n",
      "\n",
      "There seems to be a lot of reasonable ways to do step 3 but none of them seem very obvious. How to do the second and third steps well is not obvious to me.\n",
      "\n",
      "\n",
      "But let 's go through the procedure for getting info out of the body of the questions following the procedure from the python book recommended by Duncan (fig 7-1).\n"
     ]
    },
    {
     "cell_type": "code",
     "collapsed": false,
     "input": [
      "fig = Image(url=\"http://www.nltk.org/images/ie-architecture.png\")\n",
      "fig"
     ],
     "language": "python",
     "metadata": {},
     "outputs": [
      {
       "html": [
        "<img src=\"http://www.nltk.org/images/ie-architecture.png\"/>"
       ],
       "metadata": {},
       "output_type": "pyout",
       "prompt_number": 74,
       "text": [
        "<IPython.core.display.Image at 0x10f3dcd90>"
       ]
      }
     ],
     "prompt_number": 74
    },
    {
     "cell_type": "code",
     "collapsed": false,
     "input": [
      "question = df[contentCol[1]].iloc[150]\n",
      "cleaned = helper.process_markdown(question.decode('utf-8'))\n",
      "tokens = nltk.word_tokenize(cleaned)\n",
      "pos = nltk.pos_tag(tokens)"
     ],
     "language": "python",
     "metadata": {},
     "outputs": [],
     "prompt_number": 75
    },
    {
     "cell_type": "markdown",
     "metadata": {},
     "source": [
      "This takes a bit of time, I would process all the content of the questions and give a score before throwing it to the classification function."
     ]
    },
    {
     "cell_type": "heading",
     "level": 1,
     "metadata": {},
     "source": [
      "Come up with a set of rules for computing relevance of the content"
     ]
    },
    {
     "cell_type": "markdown",
     "metadata": {},
     "source": [
      "aka human learning ......"
     ]
    },
    {
     "cell_type": "code",
     "collapsed": false,
     "input": [
      "#reload(helper)\n",
      "row = 500\n",
      "reason = reasons[1]\n",
      "helper.print_question(closed, row, reason, contentCol)"
     ],
     "language": "python",
     "metadata": {},
     "outputs": [
      {
       "output_type": "stream",
       "stream": "stdout",
       "text": [
        "off topic\n",
        "-----------------------------------------------------------------\n",
        "What's the best USB switcher?  (want to share mouse/keyboard/monitor between PC and mac)\n",
        "-----------------------------------------------------------------\n",
        "\r\n",
        "I have a wireless keyboard, mouse, and a monitor (with DVI and VGA) that I want to share between two systems.  Ideally, I'd prefer to just hit a keystroke (e.g. scroll-lock twice) and then have all three items switch from my PC to my mac.\r\n",
        "\r\n",
        "Is there a good product for this?\r\n",
        "\r\n",
        "I know of older-style KVM switches, and I've found a few USB switches, but nothing together.\r\n",
        "\r\n",
        "Synergy isn't an option, as one computer is from my employer (security concerns).\r\n",
        "\r\n",
        "I'd also prefer < 1 second switch time, i.e. with a USB switcher, I'd need to wait ~5 seconds for the OS to recognize the new USB hardware.\r\n",
        "\r\n",
        "Thanks!\n",
        "-----------------------------------------------------------------\n"
       ]
      }
     ],
     "prompt_number": 76
    },
    {
     "cell_type": "code",
     "collapsed": false,
     "input": [
      "row = 1000\n",
      "helper.print_question(opened, row, \"open\", contentCol)"
     ],
     "language": "python",
     "metadata": {},
     "outputs": [
      {
       "output_type": "stream",
       "stream": "stdout",
       "text": [
        "open\n",
        "-----------------------------------------------------------------\n",
        "Oracle XE or SQL Server Express"
       ]
      },
      {
       "output_type": "stream",
       "stream": "stdout",
       "text": [
        "\n",
        "-----------------------------------------------------------------\n",
        "I'm starting a new project here (Windows Forms) and was wondering what's the best option today for a small (free as in beer) dbms.\r\n",
        "\r\n",
        "I've used SQL Server Express on the past projects, but time and time again I hear people saying that the product from Oracle is faster and more powerful.\r\n",
        "\r\n",
        "It will be used in a small company (around 20 users) and will not reach the 4 gb limit any time soon :)\r\n",
        "\r\n",
        "I don't want to start a flame war on my first post, so please point me to some link showing a good (and actual) comparison between the 2 products, if possible.\r\n",
        "\r\n",
        "Greetings from Brazil,\r\n",
        "\r\n",
        "Andr\u00e9 Casteliano\r\n",
        "\r\n",
        "PS: I've heard about IBM DB2 Express too, but I coudn't find any information about it. (Marketing material from IBM doesn't count :) )"
       ]
      },
      {
       "output_type": "stream",
       "stream": "stdout",
       "text": [
        "\n",
        "-----------------------------------------------------------------\n"
       ]
      }
     ],
     "prompt_number": 78
    },
    {
     "cell_type": "markdown",
     "metadata": {},
     "source": [
      "Come up with rules that distinguishes between the open and closed questions to compute scores / criteria for relevance "
     ]
    },
    {
     "cell_type": "code",
     "collapsed": false,
     "input": [],
     "language": "python",
     "metadata": {},
     "outputs": [],
     "prompt_number": 77
    }
   ],
   "metadata": {}
  }
 ]
}