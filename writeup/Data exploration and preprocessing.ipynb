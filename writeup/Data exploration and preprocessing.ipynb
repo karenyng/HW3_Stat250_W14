{
 "metadata": {
  "name": "",
  "signature": "sha256:0aab26d568ad7aea0fa5a97b9d4696f4b712b770ddb8c21d1d97504ea22900d8"
 },
 "nbformat": 3,
 "nbformat_minor": 0,
 "worksheets": [
  {
   "cells": [
    {
     "cell_type": "code",
     "collapsed": false,
     "input": [
      "%autosave 60\n",
      "%matplotlib inline\n",
      "\n",
      "from IPython.display import Image\n",
      "#enable or disable pdb for debugging\n",
      "#%pdb\n",
      "%load_ext nbtoc\n",
      "%nbtoc"
     ],
     "language": "python",
     "metadata": {},
     "outputs": [
      {
       "javascript": [
        "IPython.notebook.set_autosave_interval(60000)"
       ],
       "metadata": {},
       "output_type": "display_data"
      },
      {
       "output_type": "stream",
       "stream": "stdout",
       "text": [
        "Autosaving every 60 seconds\n",
        "The nbtoc extension is already loaded. To reload it, use:\n",
        "  %reload_ext nbtoc\n"
       ]
      },
      {
       "html": [
        "<!-- extracted from https://gist.github.com/magican/5574556 -->\n",
        "<div id=\"toc-wrapper\">\n",
        "    <div class=\"header\">Contents <a href=\"#\" class=\"hide-btn\">[hide]</a></div>\n",
        "    <div id=\"toc\"></div>\n",
        "</div>\n",
        " \n",
        "<style>\n",
        "  #toc {\n",
        "    overflow-y: scroll;\n",
        "    max-height: 300px;\n",
        "  }\n",
        "  #toc-wrapper {\n",
        "    position: fixed; top: 120px; max-width:430px; right: 20px;\n",
        "    border: thin solid rgba(0, 0, 0, 0.38); opacity: .8;\n",
        "    border-radius: 5px; background-color: #fff; padding:10px;\n",
        "    z-index: 100;\n",
        "  }\n",
        "  #toc-wrapper.closed {\n",
        "      min-width: 100px;\n",
        "      width: auto;\n",
        "      transition: width;\n",
        "  }\n",
        "  #toc-wrapper:hover{\n",
        "      opacity:1;\n",
        "  }\n",
        "  #toc-wrapper .header {\n",
        "      font-size:18px; font-weight: bold;\n",
        "  }\n",
        "  #toc-wrapper .hide-btn {\n",
        "      font-size: 14px;\n",
        "  }\n",
        " \n",
        "</style>\n",
        "\n",
        "<style>\n",
        "  ol.nested {\n",
        "    counter-reset: item;\n",
        "    list-style: none;\n",
        "  }\n",
        "  li.nested {\n",
        "        display: block;\n",
        "    }\n",
        "  li.nested:before {\n",
        "        counter-increment: item;\n",
        "        content: counters(item, \".\")\" \";\n",
        "    }\n",
        "</style>\n"
       ],
       "metadata": {},
       "output_type": "display_data"
      },
      {
       "javascript": [
        "// adapted from https://gist.github.com/magican/5574556\n",
        "\n",
        "function clone_anchor(element) {\n",
        "  // clone link\n",
        "  var h = element.find(\"div.text_cell_render\").find(':header').first();\n",
        "  var a = h.find('a').clone();\n",
        "  var new_a = $(\"<a>\");\n",
        "  new_a.attr(\"href\", a.attr(\"href\"));\n",
        "  // get the text *excluding* the link text, whatever it may be\n",
        "  var hclone = h.clone();\n",
        "  hclone.children().remove();\n",
        "  new_a.text(hclone.text());\n",
        "  return new_a;\n",
        "}\n",
        "\n",
        "function ol_depth(element) {\n",
        "  // get depth of nested ol\n",
        "  var d = 0;\n",
        "  while (element.prop(\"tagName\").toLowerCase() == 'ol') {\n",
        "    d += 1;\n",
        "    element = element.parent();\n",
        "  }\n",
        "  return d;\n",
        "}\n",
        "\n",
        "function table_of_contents(threshold) {\n",
        "  if (threshold === undefined) {\n",
        "    threshold = 4;\n",
        "  }\n",
        "  var cells = IPython.notebook.get_cells();\n",
        "  \n",
        "  var ol = $(\"<ol/>\");\n",
        "  $(\"#toc\").empty().append(ol);\n",
        "  \n",
        "  for (var i=0; i < cells.length; i++) {\n",
        "    var cell = cells[i];\n",
        "    \n",
        "    if (cell.cell_type !== 'heading') continue;\n",
        "    \n",
        "    var level = cell.level;\n",
        "    if (level > threshold) continue;\n",
        "    \n",
        "    var depth = ol_depth(ol);\n",
        "\n",
        "    // walk down levels\n",
        "    for (; depth < level; depth++) {\n",
        "      var new_ol = $(\"<ol/>\");\n",
        "      ol.append(new_ol);\n",
        "      ol = new_ol;\n",
        "    }\n",
        "    // walk up levels\n",
        "    for (; depth > level; depth--) {\n",
        "      ol = ol.parent();\n",
        "    }\n",
        "    //\n",
        "    ol.append(\n",
        "      $(\"<li/>\").append(clone_anchor(cell.element))\n",
        "    );\n",
        "  }\n",
        "\n",
        "  $('#toc-wrapper .header').click(function(){\n",
        "    $('#toc').slideToggle();\n",
        "    $('#toc-wrapper').toggleClass('closed');\n",
        "    if ($('#toc-wrapper').hasClass('closed')){\n",
        "      $('#toc-wrapper .hide-btn').text('[show]');\n",
        "    } else {\n",
        "      $('#toc-wrapper .hide-btn').text('[hide]');\n",
        "    }\n",
        "    return false;\n",
        "  })\n",
        "\n",
        "  $(window).resize(function(){\n",
        "    $('#toc').css({maxHeight: $(window).height() - 200})\n",
        "  })\n",
        "\n",
        "  $(window).trigger('resize')\n",
        "}\n",
        "\n",
        "table_of_contents();\n",
        "\n",
        "\n"
       ],
       "metadata": {},
       "output_type": "display_data"
      }
     ],
     "prompt_number": 32
    },
    {
     "cell_type": "code",
     "collapsed": false,
     "input": [
      "from __future__ import division \n",
      "import matplotlib.pyplot as plt \n",
      "\n",
      "import numpy as np\n",
      "import sys\n",
      "import nltk\n",
      "from markdown import markdown\n",
      "\n",
      "# import relevant matplotlib helper functions \n",
      "import matplotlib as mpl\n",
      "#from matplotlib.dates import date2num\n",
      "\n",
      "# import relevant pandas goodies\n",
      "import pandas as pd\n",
      "#from pandas import datetime\n",
      "#from pandas.tseries.tools import to_datetime\n",
      "\n",
      "import time"
     ],
     "language": "python",
     "metadata": {},
     "outputs": [],
     "prompt_number": 33
    },
    {
     "cell_type": "markdown",
     "metadata": {},
     "source": [
      "import homebrewed modules "
     ]
    },
    {
     "cell_type": "code",
     "collapsed": false,
     "input": [
      "import plot\n",
      "import helper"
     ],
     "language": "python",
     "metadata": {},
     "outputs": [],
     "prompt_number": 34
    },
    {
     "cell_type": "heading",
     "level": 1,
     "metadata": {},
     "source": [
      "Disclaimer"
     ]
    },
    {
     "cell_type": "markdown",
     "metadata": {},
     "source": [
      "* There are ways to hide the code block from an ipython notebook for easy viewing but I am too lazy to configure it."
     ]
    },
    {
     "cell_type": "heading",
     "level": 1,
     "metadata": {},
     "source": [
      "Characteristics of data"
     ]
    },
    {
     "cell_type": "heading",
     "level": 2,
     "metadata": {},
     "source": [
      "Size"
     ]
    },
    {
     "cell_type": "markdown",
     "metadata": {},
     "source": [
      "> train.csv - 3.5 GB "
     ]
    },
    {
     "cell_type": "code",
     "collapsed": false,
     "input": [
      "%time df = pd.read_csv(\"../data/train.csv\")"
     ],
     "language": "python",
     "metadata": {},
     "outputs": [
      {
       "output_type": "stream",
       "stream": "stdout",
       "text": [
        "CPU times: user 27 s, sys: 1.27 s, total: 28.3 s\n",
        "Wall time: 34.4 s\n"
       ]
      }
     ],
     "prompt_number": 35
    },
    {
     "cell_type": "markdown",
     "metadata": {},
     "source": [
      "pandas runtime for reading in the entire csv to a dataframe $\\approx 29.2s$, not too bad. This is still doable in Python. \n",
      "\n",
      "Fun fact: \n",
      "    wc -l train.csv\n",
      "will most certainly give the wrong line number count since some of the field values in the csv files has \"\\n\" as well. Scared me a little when it returned a 70 million line count when both R and pandas only gave ~3.3 million.\n",
      "\n",
      "It is unfortunate that pandas does not recognize the date columns as dates and needs me to do conversion later on even if I specify the dtypes. "
     ]
    },
    {
     "cell_type": "heading",
     "level": 2,
     "metadata": {},
     "source": [
      "Examine if the data are read correctly"
     ]
    },
    {
     "cell_type": "code",
     "collapsed": false,
     "input": [
      "df.shape"
     ],
     "language": "python",
     "metadata": {},
     "outputs": [
      {
       "metadata": {},
       "output_type": "pyout",
       "prompt_number": 36,
       "text": [
        "(3370528, 15)"
       ]
      }
     ],
     "prompt_number": 36
    },
    {
     "cell_type": "code",
     "collapsed": false,
     "input": [
      "df.columns"
     ],
     "language": "python",
     "metadata": {},
     "outputs": [
      {
       "metadata": {},
       "output_type": "pyout",
       "prompt_number": 37,
       "text": [
        "Index([u'PostId', u'PostCreationDate', u'OwnerUserId', u'OwnerCreationDate', u'ReputationAtPostCreation', u'OwnerUndeletedAnswerCountAtPostTime', u'Title', u'BodyMarkdown', u'Tag1', u'Tag2', u'Tag3', u'Tag4', u'Tag5', u'PostClosedDate', u'OpenStatus'], dtype='object')"
       ]
      }
     ],
     "prompt_number": 37
    },
    {
     "cell_type": "heading",
     "level": 2,
     "metadata": {},
     "source": [
      "Properties of the observations"
     ]
    },
    {
     "cell_type": "code",
     "collapsed": false,
     "input": [
      "totalObs = df.shape[0]\n",
      "print \"Number of observations = {0} million\".format(totalObs / 1e6)"
     ],
     "language": "python",
     "metadata": {},
     "outputs": [
      {
       "output_type": "stream",
       "stream": "stdout",
       "text": [
        "Number of observations = 3.370528 million\n"
       ]
      }
     ],
     "prompt_number": 38
    },
    {
     "cell_type": "heading",
     "level": 3,
     "metadata": {},
     "source": [
      "Percentage of open vs closed observations "
     ]
    },
    {
     "cell_type": "code",
     "collapsed": false,
     "input": [
      "openObs = df[df[\"OpenStatus\"] == \"open\"].shape[0]\n",
      "openpercent =  openObs / totalObs * 100"
     ],
     "language": "python",
     "metadata": {},
     "outputs": [],
     "prompt_number": 39
    },
    {
     "cell_type": "code",
     "collapsed": false,
     "input": [
      "print \"Open percent is {0:1.5f}% \\n\".format(openpercent) + \\\n",
      "    \"which is {0} # of observations, \\n\".format(openObs) + \\\n",
      "    \"Closed percent is {0:1.5f}% \\n\".format(100 - openpercent) + \\\n",
      "    \"which is {0} # of observations\".format(totalObs - openObs)"
     ],
     "language": "python",
     "metadata": {},
     "outputs": [
      {
       "output_type": "stream",
       "stream": "stdout",
       "text": [
        "Open percent is 97.91914% \n",
        "which is 3300392 # of observations, \n",
        "Closed percent is 2.08086% \n",
        "which is 70136 # of observations\n"
       ]
      }
     ],
     "prompt_number": 40
    },
    {
     "cell_type": "markdown",
     "metadata": {},
     "source": [
      "In the training data set \n",
      "> Open percent is 97.91914%, \n",
      "\n",
      "> Closed percent is 2.08086%"
     ]
    },
    {
     "cell_type": "markdown",
     "metadata": {},
     "source": [
      "Not quite the ~6% claimed by Stack Overflow."
     ]
    },
    {
     "cell_type": "code",
     "collapsed": false,
     "input": [
      "reasons = \\\n",
      "[\"not constructive\", \"off topic\", \n",
      " \"not a real question\", \"too localized\"]\n",
      "\n",
      "closedObs = totalObs - openObs\n",
      "\n",
      "closedpercent = \\\n",
      "[(df[df[\"OpenStatus\"] == reason].shape[0] /\\\n",
      "  closedObs * 100) for reason in reasons]"
     ],
     "language": "python",
     "metadata": {},
     "outputs": [],
     "prompt_number": 41
    },
    {
     "cell_type": "markdown",
     "metadata": {},
     "source": [
      "\n",
      "<table>\n",
      "<tr><td>Reason for closing question</td><td>% out of all closed questions</td>\n",
      "<tr>\n",
      "<td> too localized </td><td>8.78% </td>\n",
      "</tr>\n",
      "<tr>\n",
      "<td> not constructive </td><td>22.33% </td>\n",
      "</tr>\n",
      "<tr>\n",
      "<td> off topic </td><td>24.99% </td>\n",
      "</tr>\n",
      "<tr>\n",
      "<td> not a real question </td><td>43.90% </td>\n",
      "</tr>\n",
      "</table>"
     ]
    },
    {
     "cell_type": "heading",
     "level": 1,
     "metadata": {},
     "source": [
      "Nature of the given fields in the csv"
     ]
    },
    {
     "cell_type": "markdown",
     "metadata": {},
     "source": [
      "<table>\n",
      "<tr><td><b>type</b> </td><td><b>given variables</b></td><td><b>comment</b></td>\n",
      "<tr>\n",
      "<td> number </td><td>ReputationAtPostCreation, OwnerUndeletedAnswerCountAtPostTime  </td><td> the means / medians of these numbers actually mean something </td> \n",
      "</tr>\n",
      "<tr>\n",
      "<td> dates </td><td> PostCreationDate, OwnerCreationDate</td><td> not sure if the actual date matters I argue that the difference of those dates matter more</td>\n",
      "</tr>\n",
      "<tr>\n",
      "<td> categories </td><td>OwnerUserId and the tags </td> <td> for classification purposes but it seems hard to use OwnerUserId to predict if the questions should be closed or not unless s/he has asked a lot of questions before</td>\n",
      "</tr>\n",
      "<tr>\n",
      "<td> actual question content </td><td> Title, BodyMarkdown, Tags </td><td> not seeing how to make use of these unless we do some NLP to break down the words and come up rules for the machine to compute a score to represent relevance of the content</td>\n",
      "</tr>\n",
      "<tr>\n",
      "<td> extraneous info? </td><td> PostID </td><td> not seeing how this is useful except it is a unique identifier but we do not care </td>\n",
      "</tr>\n",
      "</table>"
     ]
    },
    {
     "cell_type": "code",
     "collapsed": false,
     "input": [
      "num = [4, 5]\n",
      "numCol = df.columns[num] #quantative \n",
      "date = [1, 3]\n",
      "dateCol = df.columns[date]\n",
      "label = [2] + range(8, 13) #categorical\n",
      "labelCol = df.columns[label]\n",
      "content = [6, 7] + range(8, 13)\n",
      "contentCol = df.columns[content]\n",
      "output= [13, 14]\n",
      "outputCol = df.columns[output]"
     ],
     "language": "python",
     "metadata": {},
     "outputs": [],
     "prompt_number": 42
    },
    {
     "cell_type": "heading",
     "level": 2,
     "metadata": {},
     "source": [
      "Guesses of which given variables are more important"
     ]
    },
    {
     "cell_type": "markdown",
     "metadata": {},
     "source": [
      "the postID is the most useless field and can be ignored"
     ]
    },
    {
     "cell_type": "heading",
     "level": 3,
     "metadata": {},
     "source": [
      "Fields that (I guess) are going to be related to one another"
     ]
    },
    {
     "cell_type": "markdown",
     "metadata": {},
     "source": [
      "* ReputationAtPostCreation - OwnerUndeletedAnswerCountAtPostTime - OwnerUserId \n",
      "* Title - BodyMarkdown - TagN \n",
      "* OwnerCreationDate - PostCreationDate ------- if it is a newer user, s/he may be less familiar with the rules "
     ]
    },
    {
     "cell_type": "code",
     "collapsed": false,
     "input": [
      "reload(plot)\n",
      "for col in numCol:\n",
      "    plot.plot_mean_median(col, reasons, df)\n",
      "    plt.show()\n",
      "    plt.close()"
     ],
     "language": "python",
     "metadata": {},
     "outputs": [
      {
       "metadata": {},
       "output_type": "display_data",
       "png": "[encoded data removed]",
       "text": [
        "<matplotlib.figure.Figure at 0x114c10e50>"
       ]
      },
      {
       "metadata": {},
       "output_type": "display_data",
       "png": "[encoded data removed]",
       "text": [
        "<matplotlib.figure.Figure at 0x8597250>"
       ]
      }
     ],
     "prompt_number": 43
    },
    {
     "cell_type": "heading",
     "level": 4,
     "metadata": {},
     "source": [
      "Observations"
     ]
    },
    {
     "cell_type": "markdown",
     "metadata": {},
     "source": [
      "\n",
      "* Seems like most of the posts are made by people with low reputation and there is a small population of users with a lot higher reputation.\n",
      "\n",
      "\n",
      "* There seem to be a mathematical function that approximately maps user reputation to the # of undeleted answer count - the two plots look awfully similar. No this should not be a bug. See this [Quora post](http://www.quora.com/Stack-Overflow-4/How-is-Stack-Overflows-reputation-score-calculated) about how SO computes the user reputation and how the x-axes of those two plots differ.\n",
      "\n",
      "\n",
      "* the reputation may already represent all the info from \"OwnerUndeletedAnswerCountAtPostTime\" and take more info into account. I will keep an eye out for how useful OwnerUndeletedAnswerCountAtPostTime would be for classification.\n",
      "\n",
      "\n",
      "* The reputation may be ok for predicting the question being closed due to the reasons other than \"not constructive\". In this training data set, only 22% of the closed questions are under \"not constructive\" so it is not a huge problem that reputation will not predict very well."
     ]
    },
    {
     "cell_type": "heading",
     "level": 1,
     "metadata": {},
     "source": [
      "Handle the dates in the posts "
     ]
    },
    {
     "cell_type": "markdown",
     "metadata": {},
     "source": [
      "The date time handling from python is buggy and slow. "
     ]
    },
    {
     "cell_type": "code",
     "collapsed": false,
     "input": [
      "%time df['PostCreationDate'] = \\\n",
      "    df['PostCreationDate'].apply(pd.Timestamp)"
     ],
     "language": "python",
     "metadata": {},
     "outputs": [
      {
       "output_type": "stream",
       "stream": "stdout",
       "text": [
        "CPU times: user 1min 58s, sys: 1.62 s, total: 1min 59s\n",
        "Wall time: 1min 59s\n"
       ]
      }
     ],
     "prompt_number": 44
    },
    {
     "cell_type": "code",
     "collapsed": false,
     "input": [
      "%time df['OwnerCreationDate'] = \\\n",
      "    df['OwnerCreationDate'].apply(pd.Timestamp)"
     ],
     "language": "python",
     "metadata": {},
     "outputs": [
      {
       "output_type": "stream",
       "stream": "stdout",
       "text": [
        "CPU times: user 1min 57s, sys: 1.91 s, total: 1min 59s\n",
        "Wall time: 1min 58s\n"
       ]
      }
     ],
     "prompt_number": 45
    },
    {
     "cell_type": "code",
     "collapsed": false,
     "input": [
      "%time df['postOwnerTimeDiff'] = \\\n",
      "    df['PostCreationDate'] - df['OwnerCreationDate']\n",
      "df['postOwnerTimeDiff'] = df['postOwnerTimeDiff'].apply(float)"
     ],
     "language": "python",
     "metadata": {},
     "outputs": [
      {
       "output_type": "stream",
       "stream": "stdout",
       "text": [
        "CPU times: user 5.37 s, sys: 56 ms, total: 5.43 s\n",
        "Wall time: 5.41 s\n"
       ]
      }
     ],
     "prompt_number": 46
    },
    {
     "cell_type": "markdown",
     "metadata": {},
     "source": [
      "Have no idea why the time difference would be in units of nanoseconds... Have to convert it back to be in units of days........\n",
      "Also the subtraction process will somehow make the time difference become negative even when everything should be positive. I have checked manually, the magnitude for the subtraction is correct while the sign is not .......! I have looked at the documentation several times and I don't think I have done this wrongly. A bug report should be submitted."
     ]
    },
    {
     "cell_type": "code",
     "collapsed": false,
     "input": [
      "df['postOwnerTimeDiff'] = \\\n",
      "    np.round(np.abs(df['postOwnerTimeDiff'] / 1e9 / 60. / 60. / 24.))"
     ],
     "language": "python",
     "metadata": {},
     "outputs": [],
     "prompt_number": 47
    },
    {
     "cell_type": "heading",
     "level": 1,
     "metadata": {},
     "source": [
      "Alias the closed questions and open questions for data exploration"
     ]
    },
    {
     "cell_type": "code",
     "collapsed": false,
     "input": [
      "reason = 0 \n",
      "closed = df[df[\"OpenStatus\"] != \"open\"]\n",
      "opened = df[df[\"OpenStatus\"] == \"open\"] "
     ],
     "language": "python",
     "metadata": {},
     "outputs": [],
     "prompt_number": 48
    },
    {
     "cell_type": "heading",
     "level": 1,
     "metadata": {},
     "source": [
      "Is the date difference between post and owner creation a good predictor?"
     ]
    },
    {
     "cell_type": "code",
     "collapsed": false,
     "input": [
      "j1, j2, j3 = plt.hist(np.array(closed['postOwnerTimeDiff']), bins=30,\n",
      "                      label = 'closed', alpha=0.5, normed=True, \n",
      "                      color='red')\n",
      "j1, j2, j3 = plt.hist(np.array(opened['postOwnerTimeDiff']), bins=30,\n",
      "                      label = 'open', alpha=0.5, normed=True,\n",
      "                      color='blue')\n",
      "plt.axvline(closed['postOwnerTimeDiff'].median(), \n",
      "            label='closed median', color='r', lw=3)\n",
      "plt.axvline(opened['postOwnerTimeDiff'].median(), \n",
      "            label='open median', color='b', lw=3)\n",
      "plt.axvline(closed['postOwnerTimeDiff'].mean(), \n",
      "            label='closed mean', color='r', ls='--', lw=3)\n",
      "plt.axvline(opened['postOwnerTimeDiff'].mean(), \n",
      "            label='open mean', color='b', lw=3, ls ='--')\n",
      "plt.xlabel('time diff between post and owner creation (days)', size=15)\n",
      "plt.ylabel('Normalized frequency for comparison')\n",
      "plt.legend(loc='best')"
     ],
     "language": "python",
     "metadata": {},
     "outputs": [
      {
       "metadata": {},
       "output_type": "pyout",
       "prompt_number": 49,
       "text": [
        "<matplotlib.legend.Legend at 0x4bf6050>"
       ]
      },
      {
       "metadata": {},
       "output_type": "display_data",
       "png": "[encoded data removed]",
       "text": [
        "<matplotlib.figure.Figure at 0xdf46c990>"
       ]
      }
     ],
     "prompt_number": 49
    },
    {
     "cell_type": "markdown",
     "metadata": {},
     "source": [
      "I should actually used boxplot above instead ... but I am too lazy to change the plot.\n",
      "So there are relatively more noobs asking questions that are being closed! Good! We should to have found a variable with good predictability for classifying between open and closed questions."
     ]
    },
    {
     "cell_type": "code",
     "collapsed": false,
     "input": [
      "plot.plot_mean_median('postOwnerTimeDiff', reasons, df)\n",
      "plt.show()"
     ],
     "language": "python",
     "metadata": {},
     "outputs": [
      {
       "metadata": {},
       "output_type": "display_data",
       "png": "[encoded data removed]",
       "text": [
        "<matplotlib.figure.Figure at 0x85b7950>"
       ]
      }
     ]
    },
    {
     "cell_type": "markdown",
     "metadata": {},
     "source": [
      "Again this variable is not particularly strong at predicting questions that are \"not constructive\". Also it's good that this plot does not look extremely similar to the plot for the owner reputation."
     ]
    },
    {
     "cell_type": "heading",
     "level": 1,
     "metadata": {},
     "source": [
      "Is the OwnerUserID useful for prediction?"
     ]
    },
    {
     "cell_type": "markdown",
     "metadata": {},
     "source": [
      "Trying to justify why we may / may not throw OwnerUserID away...."
     ]
    },
    {
     "cell_type": "markdown",
     "metadata": {},
     "source": [
      "After playing with different plots of the OwnerUsersID I still think the OwnerUserID is NOT useful.\n",
      "The only way that I can think of using it is to group the posts by the OwnerUserID and see if it is true that the same owner would constantly make bad posts / good posts. But these statistics are already summarized either by \"OwnerUndeletedAnswerCountAtPostTime\" or \"ReputationaAtPostCreation\"."
     ]
    },
    {
     "cell_type": "heading",
     "level": 1,
     "metadata": {},
     "source": [
      "Explore the markdown questions"
     ]
    },
    {
     "cell_type": "markdown",
     "metadata": {},
     "source": [
      "We can convert the questions from mixed markdown format to plain text by taking the following steps:\n",
      "\n",
      "* convert markdown to well defined html using python module \"markdown\"\n",
      "* remove all html tags nltk.clean_html()\n",
      "* normalize weird unicode symbols\n",
      "\n",
      "No node.js or pagedown needed. (Even though I went through the trouble of installing and playing with both of those things).\n",
      "Decoding the questions actually takes quite a bit of time."
     ]
    },
    {
     "cell_type": "code",
     "collapsed": false,
     "input": [
      "df['BodyMarkdown'] = df['BodyMarkdown'].apply(helper.process_markdown)\n",
      "df['BodyWordTokens'] = df['BodyMarkdown'].apply(nltk.word_tokenize)\n",
      "df['BodyPOS'] = df['BodyWordTokens'].apply(nltk.pos_tag)\n",
      "df['BodyWordCount'] = df['BodyWordTokens'].apply(len)"
     ],
     "language": "python",
     "metadata": {},
     "outputs": []
    },
    {
     "cell_type": "markdown",
     "metadata": {},
     "source": [
      "It seems quite hard to do NLP correctly to get extra performance.\n",
      "We will have to compute a score of relevance as a variable before merging this variable as a field in the dataframe\n",
      "\n",
      "In the NLP process, there are going to be acronyms used that might not get labeled correctly. It would require defining a scope of relevant words in the programming community.\n",
      "But let 's go through the procedure for getting info out of the body of the questions following the procedure from the python book recommended by Duncan (fig 7-1).\n"
     ]
    },
    {
     "cell_type": "code",
     "collapsed": false,
     "input": [
      "#fig = Image(url=\"http://www.nltk.org/images/ie-architecture.png\")\n",
      "#fig"
     ],
     "language": "python",
     "metadata": {},
     "outputs": []
    },
    {
     "cell_type": "markdown",
     "metadata": {},
     "source": [
      "###this is a code block in markdown form\n",
      "train_sample = pd.read_csv('../data/train-sample.csv')\n",
      "%time sent_token = train_sample[contentCol[0]].apply(nltk.sent_tokenize)\n",
      "train_sample['sent_token'] = pd.DataFrame(sent_token)\n",
      "%time tokens = train_sample[contentCol[0]].apply(nltk.word_tokenize)\n",
      "train_sample['tokens'] = pd.DataFrame(tokens)\n",
      "%time pos = train_sample['tokens'].apply(nltk.pos_tag)"
     ]
    },
    {
     "cell_type": "markdown",
     "metadata": {},
     "source": [
      "This takes a bit of time, I would process all the content of the questions and give a score before throwing it to the classification function."
     ]
    },
    {
     "cell_type": "heading",
     "level": 1,
     "metadata": {},
     "source": [
      "Variables that might be useful that we can created:"
     ]
    },
    {
     "cell_type": "markdown",
     "metadata": {},
     "source": [
      "Duncan provided some suggestions of possible variables and approaches to deal with the content of the question from [class](https://github.com/karenyng/stat250/blob/master/notes/15.md), including:"
     ]
    },
    {
     "cell_type": "heading",
     "level": 3,
     "metadata": {},
     "source": [
      "percent of stop words"
     ]
    },
    {
     "cell_type": "markdown",
     "metadata": {},
     "source": [
      "* requires stemming and keeping track of the total number of words \n",
      "* computationally intensive"
     ]
    },
    {
     "cell_type": "heading",
     "level": 3,
     "metadata": {},
     "source": [
      "the amount of code included "
     ]
    },
    {
     "cell_type": "markdown",
     "metadata": {},
     "source": [
      "* the beginning and end of the code, \n",
      "    *  is denoted by 4 spaces at the beginning of sentences in the markdown format\n",
      "    * it is easier to find in the html format which is denoted by \"< pre >\" \"< code >\" tags so we just have to match those \n",
      "\n",
      "* requires detection of the existence of the code before removing stop words / punctuations "
     ]
    },
    {
     "cell_type": "heading",
     "level": 3,
     "metadata": {},
     "source": [
      "term frequency - inverse document frequency (TF-TDF)"
     ]
    },
    {
     "cell_type": "markdown",
     "metadata": {},
     "source": [
      "$td(t,d) =$ no. of occurance of term (t) / no. of total words in document (d)"
     ]
    },
    {
     "cell_type": "code",
     "collapsed": false,
     "input": [
      "fig = Image(url=\"http://upload.wikimedia.org/math/b/a/e/\" + \\\n",
      "            \"bae842b33a4cafc0f22519cf960b052a.png\")\n",
      "fig"
     ],
     "language": "python",
     "metadata": {},
     "outputs": []
    },
    {
     "cell_type": "code",
     "collapsed": false,
     "input": [
      "fig = Image(url=\"http://upload.wikimedia.org/math/e/8/1/\" + \\\n",
      "            \"e81492e44713270fd230d821ccebd100.png\")\n",
      "fig"
     ],
     "language": "python",
     "metadata": {},
     "outputs": []
    },
    {
     "cell_type": "markdown",
     "metadata": {},
     "source": [
      "We have 0 < TF-IDF < 1 with a more commonly seen term having TF-IDF ~ 0.\n",
      "This is computationally intensive. \n",
      "\n",
      "Here is a nice [tutorial](http://aimotion.blogspot.com/2011/12/machine-learning-with-python-meeting-tf.html) of how TF-IDF can be done with code that can be used."
     ]
    },
    {
     "cell_type": "heading",
     "level": 3,
     "metadata": {},
     "source": [
      "upvote statistics "
     ]
    },
    {
     "cell_type": "markdown",
     "metadata": {},
     "source": [
      "* this seems a very smart thing to do but is also a lot of work"
     ]
    },
    {
     "cell_type": "heading",
     "level": 3,
     "metadata": {},
     "source": [
      "conditional probability from Naive Bayes approach:"
     ]
    },
    {
     "cell_type": "markdown",
     "metadata": {},
     "source": [
      "$$P(closed | w_1, w_2, ..., w_n) \\\\\n",
      "\\propto P(w_1, w_2,..., w_n |closed) P(closed)$$ \n",
      "$$\\\\= P(w_1 | closed) P(w_2 | closed)... P(w_3 | closed) ... P(closed)$$\n",
      "\n",
      "assuming independence between the words \n"
     ]
    },
    {
     "cell_type": "heading",
     "level": 1,
     "metadata": {},
     "source": [
      "Examine questions to come up with a set of rules for computing relevance of the content"
     ]
    },
    {
     "cell_type": "markdown",
     "metadata": {},
     "source": [
      "aka human learning to help the machine learn..."
     ]
    },
    {
     "cell_type": "code",
     "collapsed": false,
     "input": [
      "#reload(helper)\n",
      "row = 10\n",
      "reason = reasons[0]\n",
      "helper.print_question(closed, row, reason, contentCol)"
     ],
     "language": "python",
     "metadata": {},
     "outputs": []
    },
    {
     "cell_type": "code",
     "collapsed": false,
     "input": [
      "row = 100\n",
      "helper.print_question(opened, row, \"open\", contentCol)"
     ],
     "language": "python",
     "metadata": {},
     "outputs": []
    },
    {
     "cell_type": "heading",
     "level": 1,
     "metadata": {},
     "source": [
      "Rules"
     ]
    },
    {
     "cell_type": "markdown",
     "metadata": {},
     "source": [
      "I should really come up with these rules after doing NLP and looking at if different keywords cluster around different reason categories...."
     ]
    },
    {
     "cell_type": "heading",
     "level": 3,
     "metadata": {},
     "source": [
      "1. find unique tags and keywords from titles of open questions"
     ]
    },
    {
     "cell_type": "code",
     "collapsed": false,
     "input": [
      "openTags = opened['Tag1'].drop_duplicates().shape[0]"
     ],
     "language": "python",
     "metadata": {},
     "outputs": []
    },
    {
     "cell_type": "markdown",
     "metadata": {},
     "source": [
      "There are only ~20K unique tags before stemming. SO actually defines tag-synonyms on their websites. \n",
      "We can look at them for grouping the tags correctly..... but not sure if this is necessary / worth the effort.\n",
      "Not sure if I want to do stemming because the tags to be predicted would come in various different forms (singular / plural) anyway...\n",
      "It is like a memory vs. time trade off between doing stemming and not doing stemming in this case. "
     ]
    },
    {
     "cell_type": "markdown",
     "metadata": {},
     "source": [
      "Assume these are the relevant topics on stack overflow. Can use a hash table implementation to check if the tags on a post to be predicted contain the these topics."
     ]
    },
    {
     "cell_type": "heading",
     "level": 3,
     "metadata": {},
     "source": [
      "2. find tags and keywords from titles of \"off topic\" questions that do not overlap with the open questions nor the other reasons and define these words to indicate a \"off topic\" post"
     ]
    },
    {
     "cell_type": "code",
     "collapsed": false,
     "input": [
      "closeTags = closed['Tag1'].drop_duplicates().shape[0]"
     ],
     "language": "python",
     "metadata": {},
     "outputs": []
    },
    {
     "cell_type": "code",
     "collapsed": false,
     "input": [],
     "language": "python",
     "metadata": {},
     "outputs": []
    },
    {
     "cell_type": "markdown",
     "metadata": {},
     "source": [
      "If not, label those as being irrelevant"
     ]
    },
    {
     "cell_type": "heading",
     "level": 3,
     "metadata": {},
     "source": [
      "3. Define \"not constructive\" keywords"
     ]
    },
    {
     "cell_type": "markdown",
     "metadata": {},
     "source": [
      "Look for words that indicate comparison since it would \"solicit debate, arguments, polling or extended discussion\", like most, better, compare, advantages, best etc. \n",
      "\n",
      "Maybe we do not have to define such keywords manually. \n",
      "We can gather bags of words from the content of the question for the \"not constructive\" category and then again find the words that are  mutually exclusive from the open questions and other reasons. This is computationally intensive."
     ]
    }
   ],
   "metadata": {}
  }
 ]
}