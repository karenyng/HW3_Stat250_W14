{
 "metadata": {
  "name": "",
  "signature": "sha256:cc68f2bbfa2b90b9c097092f700afd26f75dfadf30285c9b52f1239ba46e7653"
 },
 "nbformat": 3,
 "nbformat_minor": 0,
 "worksheets": [
  {
   "cells": [
    {
     "cell_type": "markdown",
     "metadata": {},
     "source": [
      "Author: Karen Ng <karenyng@ucdavis.edu> \n",
      "\n",
      "github repository: <https://github.com/karenyng>\n",
      "\n",
      "Written with an IPython notebook v. 2.0.0-dev"
     ]
    },
    {
     "cell_type": "code",
     "collapsed": false,
     "input": [
      "%autosave 60\n",
      "%matplotlib inline"
     ],
     "language": "python",
     "metadata": {},
     "outputs": [
      {
       "javascript": [
        "IPython.notebook.set_autosave_interval(60000)"
       ],
       "metadata": {},
       "output_type": "display_data"
      },
      {
       "output_type": "stream",
       "stream": "stdout",
       "text": [
        "Autosaving every 60 seconds\n"
       ]
      }
     ],
     "prompt_number": 1
    },
    {
     "cell_type": "heading",
     "level": 1,
     "metadata": {},
     "source": [
      "Background of assignment"
     ]
    },
    {
     "cell_type": "markdown",
     "metadata": {},
     "source": [
      "<http://eeyore.ucdavis.edu/stat250/Homeworks/hw3.html>\n",
      "\n",
      "Find [Stack Overflow](<https://web.archive.org/web/20130609062934/http://stackoverflow.com/help/closed-questions>) questions that should be closed, under particular reasons: \n",
      "\n",
      "* off topic, \n",
      "* not constructive, \n",
      "* not a real question, or \n",
      "* too localized.\n",
      "\n",
      "This classification problem comes from a [Kaggle competition](\n",
      "<https://www.kaggle.com/c/predict-closed-questions-on-stack-overflow>)\n",
      "\n",
      "With the data available at\n",
      "\n"
     ]
    },
    {
     "cell_type": "heading",
     "level": 1,
     "metadata": {},
     "source": [
      "Content "
     ]
    },
    {
     "cell_type": "markdown",
     "metadata": {},
     "source": [
      "(click link below to jump to particular session of this IPython notebook.\n",
      "This may not work with the pdf version - in that case, open up the bookmarks of the pdf to jump to particular session)"
     ]
    },
    {
     "cell_type": "markdown",
     "metadata": {},
     "source": [
      "* [Get data to remote machine](#Get-data-to-remote-machine)\n",
      "    * small training set \n",
      "    * bigger 6GB full data set \n",
      "* [Data preprocessing](#Data-preprocessing)\n",
      "    * NLP for the context of the questions \n",
      "* Pick a stat / ML technique to use \n",
      "* Install / configure software packages needed for doing the statistics / machine learning part \n",
      "* Do data exploration \n",
      "    * examine how the open / close tag relate to the given user info\n",
      "    * examine how actual content helps ....\n",
      "* Do actual analysis with the algorithm with smaller training set\n",
      "    * get a 2-case classification done (open / close) just using the user info to get intuition \n",
      "    * get a 2-case then 4-case classification done with the different tags "
     ]
    },
    {
     "cell_type": "heading",
     "level": 1,
     "metadata": {},
     "source": [
      "Get data to remote machine "
     ]
    },
    {
     "cell_type": "markdown",
     "metadata": {},
     "source": [
      "fun with passing cookies"
     ]
    },
    {
     "cell_type": "heading",
     "level": 1,
     "metadata": {},
     "source": [
      "Choice of language / library to use "
     ]
    },
    {
     "cell_type": "markdown",
     "metadata": {},
     "source": [
      "python since I want to spend time on learning about the statistics / ML method rather than a language that I am not familiar with."
     ]
    },
    {
     "cell_type": "heading",
     "level": 1,
     "metadata": {},
     "source": [
      "Data preprocessing"
     ]
    },
    {
     "cell_type": "heading",
     "level": 2,
     "metadata": {},
     "source": [
      "stripping markdown from text"
     ]
    },
    {
     "cell_type": "heading",
     "level": 2,
     "metadata": {},
     "source": [
      "create new variables "
     ]
    },
    {
     "cell_type": "heading",
     "level": 3,
     "metadata": {},
     "source": []
    },
    {
     "cell_type": "heading",
     "level": 1,
     "metadata": {},
     "source": [
      "Data exploration"
     ]
    },
    {
     "cell_type": "heading",
     "level": 2,
     "metadata": {},
     "source": [
      "Characteristics of the data"
     ]
    },
    {
     "cell_type": "heading",
     "level": 3,
     "metadata": {},
     "source": [
      "Size"
     ]
    },
    {
     "cell_type": "heading",
     "level": 3,
     "metadata": {},
     "source": [
      "Variables for making predictions "
     ]
    },
    {
     "cell_type": "heading",
     "level": 1,
     "metadata": {},
     "source": [
      "Random Forest"
     ]
    },
    {
     "cell_type": "heading",
     "level": 2,
     "metadata": {},
     "source": [
      "characteristics "
     ]
    },
    {
     "cell_type": "heading",
     "level": 2,
     "metadata": {},
     "source": [
      "Comparison to other methods "
     ]
    },
    {
     "cell_type": "heading",
     "level": 2,
     "metadata": {},
     "source": [
      "choice of parameters "
     ]
    },
    {
     "cell_type": "heading",
     "level": 1,
     "metadata": {},
     "source": [
      "Results "
     ]
    },
    {
     "cell_type": "heading",
     "level": 1,
     "metadata": {},
     "source": [
      "Performance metric"
     ]
    },
    {
     "cell_type": "heading",
     "level": 3,
     "metadata": {},
     "source": [
      "Misclassification rate"
     ]
    },
    {
     "cell_type": "heading",
     "level": 3,
     "metadata": {},
     "source": [
      "Cross validation "
     ]
    },
    {
     "cell_type": "heading",
     "level": 1,
     "metadata": {},
     "source": [
      "Actual code"
     ]
    },
    {
     "cell_type": "code",
     "collapsed": false,
     "input": [],
     "language": "python",
     "metadata": {},
     "outputs": []
    }
   ],
   "metadata": {}
  }
 ]
}